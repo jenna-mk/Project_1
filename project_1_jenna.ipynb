{
 "cells": [
  {
   "cell_type": "markdown",
   "metadata": {},
   "source": [
    "# Project 1: Analysis of Various Metrics and How They Relate to Stress and Work-Life Balance"
   ]
  },
  {
   "cell_type": "code",
   "execution_count": 39,
   "metadata": {},
   "outputs": [],
   "source": [
    "# Dependencies\n",
    "import pandas as pd\n",
    "import matplotlib.pyplot as plt"
   ]
  },
  {
   "cell_type": "markdown",
   "metadata": {},
   "source": [
    "## Data Cleaning and Manipulation"
   ]
  },
  {
   "cell_type": "code",
   "execution_count": 23,
   "metadata": {},
   "outputs": [
    {
     "data": {
      "text/html": [
       "<div>\n",
       "<style scoped>\n",
       "    .dataframe tbody tr th:only-of-type {\n",
       "        vertical-align: middle;\n",
       "    }\n",
       "\n",
       "    .dataframe tbody tr th {\n",
       "        vertical-align: top;\n",
       "    }\n",
       "\n",
       "    .dataframe thead th {\n",
       "        text-align: right;\n",
       "    }\n",
       "</style>\n",
       "<table border=\"1\" class=\"dataframe\">\n",
       "  <thead>\n",
       "    <tr style=\"text-align: right;\">\n",
       "      <th></th>\n",
       "      <th>Timestamp</th>\n",
       "      <th>FRUITS_VEGGIES</th>\n",
       "      <th>DAILY_STRESS</th>\n",
       "      <th>PLACES_VISITED</th>\n",
       "      <th>CORE_CIRCLE</th>\n",
       "      <th>SUPPORTING_OTHERS</th>\n",
       "      <th>SOCIAL_NETWORK</th>\n",
       "      <th>ACHIEVEMENT</th>\n",
       "      <th>DONATION</th>\n",
       "      <th>BMI_RANGE</th>\n",
       "      <th>...</th>\n",
       "      <th>SLEEP_HOURS</th>\n",
       "      <th>LOST_VACATION</th>\n",
       "      <th>DAILY_SHOUTING</th>\n",
       "      <th>SUFFICIENT_INCOME</th>\n",
       "      <th>PERSONAL_AWARDS</th>\n",
       "      <th>TIME_FOR_PASSION</th>\n",
       "      <th>WEEKLY_MEDITATION</th>\n",
       "      <th>AGE</th>\n",
       "      <th>GENDER</th>\n",
       "      <th>WORK_LIFE_BALANCE_SCORE</th>\n",
       "    </tr>\n",
       "  </thead>\n",
       "  <tbody>\n",
       "    <tr>\n",
       "      <th>0</th>\n",
       "      <td>7/7/15</td>\n",
       "      <td>3</td>\n",
       "      <td>2</td>\n",
       "      <td>2</td>\n",
       "      <td>5</td>\n",
       "      <td>0</td>\n",
       "      <td>5</td>\n",
       "      <td>2</td>\n",
       "      <td>0</td>\n",
       "      <td>1</td>\n",
       "      <td>...</td>\n",
       "      <td>7</td>\n",
       "      <td>5</td>\n",
       "      <td>5</td>\n",
       "      <td>1</td>\n",
       "      <td>4</td>\n",
       "      <td>0</td>\n",
       "      <td>5</td>\n",
       "      <td>36 to 50</td>\n",
       "      <td>Female</td>\n",
       "      <td>609.5</td>\n",
       "    </tr>\n",
       "    <tr>\n",
       "      <th>1</th>\n",
       "      <td>7/7/15</td>\n",
       "      <td>2</td>\n",
       "      <td>3</td>\n",
       "      <td>4</td>\n",
       "      <td>3</td>\n",
       "      <td>8</td>\n",
       "      <td>10</td>\n",
       "      <td>5</td>\n",
       "      <td>2</td>\n",
       "      <td>2</td>\n",
       "      <td>...</td>\n",
       "      <td>8</td>\n",
       "      <td>2</td>\n",
       "      <td>2</td>\n",
       "      <td>2</td>\n",
       "      <td>3</td>\n",
       "      <td>2</td>\n",
       "      <td>6</td>\n",
       "      <td>36 to 50</td>\n",
       "      <td>Female</td>\n",
       "      <td>655.6</td>\n",
       "    </tr>\n",
       "    <tr>\n",
       "      <th>2</th>\n",
       "      <td>7/7/15</td>\n",
       "      <td>2</td>\n",
       "      <td>3</td>\n",
       "      <td>3</td>\n",
       "      <td>4</td>\n",
       "      <td>4</td>\n",
       "      <td>10</td>\n",
       "      <td>3</td>\n",
       "      <td>2</td>\n",
       "      <td>2</td>\n",
       "      <td>...</td>\n",
       "      <td>8</td>\n",
       "      <td>10</td>\n",
       "      <td>2</td>\n",
       "      <td>2</td>\n",
       "      <td>4</td>\n",
       "      <td>8</td>\n",
       "      <td>3</td>\n",
       "      <td>36 to 50</td>\n",
       "      <td>Female</td>\n",
       "      <td>631.6</td>\n",
       "    </tr>\n",
       "    <tr>\n",
       "      <th>3</th>\n",
       "      <td>7/7/15</td>\n",
       "      <td>3</td>\n",
       "      <td>3</td>\n",
       "      <td>10</td>\n",
       "      <td>3</td>\n",
       "      <td>10</td>\n",
       "      <td>7</td>\n",
       "      <td>2</td>\n",
       "      <td>5</td>\n",
       "      <td>2</td>\n",
       "      <td>...</td>\n",
       "      <td>5</td>\n",
       "      <td>7</td>\n",
       "      <td>5</td>\n",
       "      <td>1</td>\n",
       "      <td>5</td>\n",
       "      <td>2</td>\n",
       "      <td>0</td>\n",
       "      <td>51 or more</td>\n",
       "      <td>Female</td>\n",
       "      <td>622.7</td>\n",
       "    </tr>\n",
       "    <tr>\n",
       "      <th>4</th>\n",
       "      <td>7/7/15</td>\n",
       "      <td>5</td>\n",
       "      <td>1</td>\n",
       "      <td>3</td>\n",
       "      <td>3</td>\n",
       "      <td>10</td>\n",
       "      <td>4</td>\n",
       "      <td>2</td>\n",
       "      <td>4</td>\n",
       "      <td>2</td>\n",
       "      <td>...</td>\n",
       "      <td>7</td>\n",
       "      <td>0</td>\n",
       "      <td>0</td>\n",
       "      <td>2</td>\n",
       "      <td>8</td>\n",
       "      <td>1</td>\n",
       "      <td>5</td>\n",
       "      <td>51 or more</td>\n",
       "      <td>Female</td>\n",
       "      <td>663.9</td>\n",
       "    </tr>\n",
       "  </tbody>\n",
       "</table>\n",
       "<p>5 rows × 24 columns</p>\n",
       "</div>"
      ],
      "text/plain": [
       "  Timestamp  FRUITS_VEGGIES DAILY_STRESS  PLACES_VISITED  CORE_CIRCLE  \\\n",
       "0    7/7/15               3            2               2            5   \n",
       "1    7/7/15               2            3               4            3   \n",
       "2    7/7/15               2            3               3            4   \n",
       "3    7/7/15               3            3              10            3   \n",
       "4    7/7/15               5            1               3            3   \n",
       "\n",
       "   SUPPORTING_OTHERS  SOCIAL_NETWORK  ACHIEVEMENT  DONATION  BMI_RANGE  ...  \\\n",
       "0                  0               5            2         0          1  ...   \n",
       "1                  8              10            5         2          2  ...   \n",
       "2                  4              10            3         2          2  ...   \n",
       "3                 10               7            2         5          2  ...   \n",
       "4                 10               4            2         4          2  ...   \n",
       "\n",
       "   SLEEP_HOURS  LOST_VACATION  DAILY_SHOUTING  SUFFICIENT_INCOME  \\\n",
       "0            7              5               5                  1   \n",
       "1            8              2               2                  2   \n",
       "2            8             10               2                  2   \n",
       "3            5              7               5                  1   \n",
       "4            7              0               0                  2   \n",
       "\n",
       "   PERSONAL_AWARDS  TIME_FOR_PASSION  WEEKLY_MEDITATION         AGE  GENDER  \\\n",
       "0                4                 0                  5    36 to 50  Female   \n",
       "1                3                 2                  6    36 to 50  Female   \n",
       "2                4                 8                  3    36 to 50  Female   \n",
       "3                5                 2                  0  51 or more  Female   \n",
       "4                8                 1                  5  51 or more  Female   \n",
       "\n",
       "   WORK_LIFE_BALANCE_SCORE  \n",
       "0                    609.5  \n",
       "1                    655.6  \n",
       "2                    631.6  \n",
       "3                    622.7  \n",
       "4                    663.9  \n",
       "\n",
       "[5 rows x 24 columns]"
      ]
     },
     "execution_count": 23,
     "metadata": {},
     "output_type": "execute_result"
    }
   ],
   "source": [
    "# Read csv file\n",
    "wellbeing_df = pd.read_csv('data/Wellbeing_and_lifestyle_data_Kaggle.csv')\n",
    "wellbeing_df.head()"
   ]
  },
  {
   "cell_type": "code",
   "execution_count": 24,
   "metadata": {},
   "outputs": [
    {
     "name": "stdout",
     "output_type": "stream",
     "text": [
      "<class 'pandas.core.frame.DataFrame'>\n",
      "RangeIndex: 15972 entries, 0 to 15971\n",
      "Data columns (total 24 columns):\n",
      " #   Column                   Non-Null Count  Dtype  \n",
      "---  ------                   --------------  -----  \n",
      " 0   Timestamp                15972 non-null  object \n",
      " 1   FRUITS_VEGGIES           15972 non-null  int64  \n",
      " 2   DAILY_STRESS             15972 non-null  object \n",
      " 3   PLACES_VISITED           15972 non-null  int64  \n",
      " 4   CORE_CIRCLE              15972 non-null  int64  \n",
      " 5   SUPPORTING_OTHERS        15972 non-null  int64  \n",
      " 6   SOCIAL_NETWORK           15972 non-null  int64  \n",
      " 7   ACHIEVEMENT              15972 non-null  int64  \n",
      " 8   DONATION                 15972 non-null  int64  \n",
      " 9   BMI_RANGE                15972 non-null  int64  \n",
      " 10  TODO_COMPLETED           15972 non-null  int64  \n",
      " 11  FLOW                     15972 non-null  int64  \n",
      " 12  DAILY_STEPS              15972 non-null  int64  \n",
      " 13  LIVE_VISION              15972 non-null  int64  \n",
      " 14  SLEEP_HOURS              15972 non-null  int64  \n",
      " 15  LOST_VACATION            15972 non-null  int64  \n",
      " 16  DAILY_SHOUTING           15972 non-null  int64  \n",
      " 17  SUFFICIENT_INCOME        15972 non-null  int64  \n",
      " 18  PERSONAL_AWARDS          15972 non-null  int64  \n",
      " 19  TIME_FOR_PASSION         15972 non-null  int64  \n",
      " 20  WEEKLY_MEDITATION        15972 non-null  int64  \n",
      " 21  AGE                      15972 non-null  object \n",
      " 22  GENDER                   15972 non-null  object \n",
      " 23  WORK_LIFE_BALANCE_SCORE  15972 non-null  float64\n",
      "dtypes: float64(1), int64(19), object(4)\n",
      "memory usage: 2.9+ MB\n"
     ]
    }
   ],
   "source": [
    "wellbeing_df.info()"
   ]
  },
  {
   "cell_type": "code",
   "execution_count": 25,
   "metadata": {},
   "outputs": [
    {
     "name": "stdout",
     "output_type": "stream",
     "text": [
      "Timestamp                   object\n",
      "FRUITS_VEGGIES               int64\n",
      "DAILY_STRESS                object\n",
      "PLACES_VISITED               int64\n",
      "CORE_CIRCLE                  int64\n",
      "SUPPORTING_OTHERS            int64\n",
      "SOCIAL_NETWORK               int64\n",
      "ACHIEVEMENT                  int64\n",
      "DONATION                     int64\n",
      "BMI_RANGE                    int64\n",
      "TODO_COMPLETED               int64\n",
      "FLOW                         int64\n",
      "DAILY_STEPS                  int64\n",
      "LIVE_VISION                  int64\n",
      "SLEEP_HOURS                  int64\n",
      "LOST_VACATION                int64\n",
      "DAILY_SHOUTING               int64\n",
      "SUFFICIENT_INCOME            int64\n",
      "PERSONAL_AWARDS              int64\n",
      "TIME_FOR_PASSION             int64\n",
      "WEEKLY_MEDITATION            int64\n",
      "AGE                         object\n",
      "GENDER                      object\n",
      "WORK_LIFE_BALANCE_SCORE    float64\n",
      "dtype: object\n"
     ]
    }
   ],
   "source": [
    "# Check the datatypes of each column\n",
    "column_data_types = wellbeing_df.dtypes\n",
    "print(column_data_types)"
   ]
  },
  {
   "cell_type": "code",
   "execution_count": 38,
   "metadata": {},
   "outputs": [
    {
     "name": "stdout",
     "output_type": "stream",
     "text": [
      "[2, 3, 1, 4, 5, 0]\n",
      "<class 'pandas.core.frame.DataFrame'>\n",
      "Int64Index: 15971 entries, 0 to 15971\n",
      "Data columns (total 24 columns):\n",
      " #   Column                   Non-Null Count  Dtype  \n",
      "---  ------                   --------------  -----  \n",
      " 0   Timestamp                15971 non-null  object \n",
      " 1   FRUITS_VEGGIES           15971 non-null  int64  \n",
      " 2   DAILY_STRESS             15971 non-null  int32  \n",
      " 3   PLACES_VISITED           15971 non-null  int64  \n",
      " 4   CORE_CIRCLE              15971 non-null  int64  \n",
      " 5   SUPPORTING_OTHERS        15971 non-null  int64  \n",
      " 6   SOCIAL_NETWORK           15971 non-null  int64  \n",
      " 7   ACHIEVEMENT              15971 non-null  int64  \n",
      " 8   DONATION                 15971 non-null  int64  \n",
      " 9   BMI_RANGE                15971 non-null  int64  \n",
      " 10  TODO_COMPLETED           15971 non-null  int64  \n",
      " 11  FLOW                     15971 non-null  int64  \n",
      " 12  DAILY_STEPS              15971 non-null  int64  \n",
      " 13  LIVE_VISION              15971 non-null  int64  \n",
      " 14  SLEEP_HOURS              15971 non-null  int64  \n",
      " 15  LOST_VACATION            15971 non-null  int64  \n",
      " 16  DAILY_SHOUTING           15971 non-null  int64  \n",
      " 17  SUFFICIENT_INCOME        15971 non-null  int64  \n",
      " 18  PERSONAL_AWARDS          15971 non-null  int64  \n",
      " 19  TIME_FOR_PASSION         15971 non-null  int64  \n",
      " 20  WEEKLY_MEDITATION        15971 non-null  int64  \n",
      " 21  AGE                      15971 non-null  object \n",
      " 22  GENDER                   15971 non-null  object \n",
      " 23  WORK_LIFE_BALANCE_SCORE  15971 non-null  float64\n",
      "dtypes: float64(1), int32(1), int64(19), object(3)\n",
      "memory usage: 3.0+ MB\n"
     ]
    }
   ],
   "source": [
    "# Change the datatype of the stress column to an integer\n",
    "\n",
    "# First find the row(s) that is NOT a number on the stress scale\n",
    "stress_scores = wellbeing_df['DAILY_STRESS'].unique()\n",
    "\n",
    "# Convert the stress scores into a list\n",
    "stress_scores_list = list(stress_scores)\n",
    "print(stress_scores_list)\n",
    "\n",
    "# From the list, drop the values that are not valid stress scores\n",
    "invalid_response = '1/1/00'\n",
    "\n",
    "# Create a variable to filter for the invalid response\n",
    "drop_response = (wellbeing_df['DAILY_STRESS'] == invalid_response)\n",
    "\n",
    "# Drop the row containing the invalid response\n",
    "wellbeing_df = wellbeing_df.loc[~drop_response]\n",
    "wellbeing_df\n",
    "\n",
    "# Convert the daily stress column to an integer and check it was converted correctly\n",
    "wellbeing_df['DAILY_STRESS'] = wellbeing_df['DAILY_STRESS'].astype(int)\n",
    "wellbeing_df.info()\n"
   ]
  },
  {
   "cell_type": "code",
   "execution_count": 27,
   "metadata": {},
   "outputs": [
    {
     "name": "stdout",
     "output_type": "stream",
     "text": [
      "<class 'pandas.core.frame.DataFrame'>\n",
      "Int64Index: 9858 entries, 0 to 15971\n",
      "Data columns (total 24 columns):\n",
      " #   Column                   Non-Null Count  Dtype  \n",
      "---  ------                   --------------  -----  \n",
      " 0   Timestamp                9858 non-null   object \n",
      " 1   FRUITS_VEGGIES           9858 non-null   int64  \n",
      " 2   DAILY_STRESS             9858 non-null   object \n",
      " 3   PLACES_VISITED           9858 non-null   int64  \n",
      " 4   CORE_CIRCLE              9858 non-null   int64  \n",
      " 5   SUPPORTING_OTHERS        9858 non-null   int64  \n",
      " 6   SOCIAL_NETWORK           9858 non-null   int64  \n",
      " 7   ACHIEVEMENT              9858 non-null   int64  \n",
      " 8   DONATION                 9858 non-null   int64  \n",
      " 9   BMI_RANGE                9858 non-null   int64  \n",
      " 10  TODO_COMPLETED           9858 non-null   int64  \n",
      " 11  FLOW                     9858 non-null   int64  \n",
      " 12  DAILY_STEPS              9858 non-null   int64  \n",
      " 13  LIVE_VISION              9858 non-null   int64  \n",
      " 14  SLEEP_HOURS              9858 non-null   int64  \n",
      " 15  LOST_VACATION            9858 non-null   int64  \n",
      " 16  DAILY_SHOUTING           9858 non-null   int64  \n",
      " 17  SUFFICIENT_INCOME        9858 non-null   int64  \n",
      " 18  PERSONAL_AWARDS          9858 non-null   int64  \n",
      " 19  TIME_FOR_PASSION         9858 non-null   int64  \n",
      " 20  WEEKLY_MEDITATION        9858 non-null   int64  \n",
      " 21  AGE                      9858 non-null   object \n",
      " 22  GENDER                   9858 non-null   object \n",
      " 23  WORK_LIFE_BALANCE_SCORE  9858 non-null   float64\n",
      "dtypes: float64(1), int64(19), object(4)\n",
      "memory usage: 1.9+ MB\n"
     ]
    }
   ],
   "source": [
    "# Find distribution of male vs female \n",
    "# Create a df for the females\n",
    "female_df = wellbeing_df[wellbeing_df['GENDER'] == 'Female']\n",
    "female_df.info()"
   ]
  },
  {
   "cell_type": "code",
   "execution_count": 28,
   "metadata": {},
   "outputs": [
    {
     "name": "stdout",
     "output_type": "stream",
     "text": [
      "<class 'pandas.core.frame.DataFrame'>\n",
      "Int64Index: 6114 entries, 6 to 15969\n",
      "Data columns (total 24 columns):\n",
      " #   Column                   Non-Null Count  Dtype  \n",
      "---  ------                   --------------  -----  \n",
      " 0   Timestamp                6114 non-null   object \n",
      " 1   FRUITS_VEGGIES           6114 non-null   int64  \n",
      " 2   DAILY_STRESS             6114 non-null   object \n",
      " 3   PLACES_VISITED           6114 non-null   int64  \n",
      " 4   CORE_CIRCLE              6114 non-null   int64  \n",
      " 5   SUPPORTING_OTHERS        6114 non-null   int64  \n",
      " 6   SOCIAL_NETWORK           6114 non-null   int64  \n",
      " 7   ACHIEVEMENT              6114 non-null   int64  \n",
      " 8   DONATION                 6114 non-null   int64  \n",
      " 9   BMI_RANGE                6114 non-null   int64  \n",
      " 10  TODO_COMPLETED           6114 non-null   int64  \n",
      " 11  FLOW                     6114 non-null   int64  \n",
      " 12  DAILY_STEPS              6114 non-null   int64  \n",
      " 13  LIVE_VISION              6114 non-null   int64  \n",
      " 14  SLEEP_HOURS              6114 non-null   int64  \n",
      " 15  LOST_VACATION            6114 non-null   int64  \n",
      " 16  DAILY_SHOUTING           6114 non-null   int64  \n",
      " 17  SUFFICIENT_INCOME        6114 non-null   int64  \n",
      " 18  PERSONAL_AWARDS          6114 non-null   int64  \n",
      " 19  TIME_FOR_PASSION         6114 non-null   int64  \n",
      " 20  WEEKLY_MEDITATION        6114 non-null   int64  \n",
      " 21  AGE                      6114 non-null   object \n",
      " 22  GENDER                   6114 non-null   object \n",
      " 23  WORK_LIFE_BALANCE_SCORE  6114 non-null   float64\n",
      "dtypes: float64(1), int64(19), object(4)\n",
      "memory usage: 1.2+ MB\n"
     ]
    }
   ],
   "source": [
    "# Create a df for the males\n",
    "male_df = wellbeing_df[wellbeing_df['GENDER'] == 'Male']\n",
    "male_df.info()"
   ]
  },
  {
   "cell_type": "code",
   "execution_count": 29,
   "metadata": {},
   "outputs": [
    {
     "name": "stdout",
     "output_type": "stream",
     "text": [
      "The total number of participants is 15972\n",
      "The total number of males is 6114\n",
      "The total number of females is 9858\n"
     ]
    }
   ],
   "source": [
    "# Find the total number of participants in the study\n",
    "total_participants = wellbeing_df['Timestamp'].count()\n",
    "\n",
    "# Find the total number of males\n",
    "male_count = male_df['Timestamp'].count()\n",
    "\n",
    "# Find the total number of females\n",
    "female_count = female_df['Timestamp'].count()\n",
    "\n",
    "print(f'The total number of participants is {total_participants}')\n",
    "print(f'The total number of males is {male_count}')\n",
    "print(f'The total number of females is {female_count}')"
   ]
  },
  {
   "cell_type": "markdown",
   "metadata": {},
   "source": [
    "## Data Analysis for Mental Health Practices"
   ]
  },
  {
   "cell_type": "code",
   "execution_count": 30,
   "metadata": {},
   "outputs": [
    {
     "data": {
      "text/plain": [
       "<pandas.core.groupby.generic.DataFrameGroupBy object at 0x0000019024F91090>"
      ]
     },
     "execution_count": 30,
     "metadata": {},
     "output_type": "execute_result"
    }
   ],
   "source": [
    "# Create a dataframe grouped by gender\n",
    "gender_grouped = wellbeing_df.groupby('GENDER')\n",
    "gender_grouped"
   ]
  },
  {
   "cell_type": "code",
   "execution_count": 31,
   "metadata": {},
   "outputs": [
    {
     "name": "stderr",
     "output_type": "stream",
     "text": [
      "C:\\Users\\jenna\\AppData\\Local\\Temp\\ipykernel_26072\\250324843.py:7: FutureWarning: DataFrame.set_axis 'inplace' keyword is deprecated and will be removed in a future version. Use `obj = obj.set_axis(..., copy=False)` instead\n",
      "  mental_health_df.set_axis(['Age','Gender','Flow','Weekly Meditation','Daily Shouting','Daily Stress','Work Life Balance Score'], axis='columns',inplace=True)\n"
     ]
    },
    {
     "data": {
      "text/html": [
       "<div>\n",
       "<style scoped>\n",
       "    .dataframe tbody tr th:only-of-type {\n",
       "        vertical-align: middle;\n",
       "    }\n",
       "\n",
       "    .dataframe tbody tr th {\n",
       "        vertical-align: top;\n",
       "    }\n",
       "\n",
       "    .dataframe thead th {\n",
       "        text-align: right;\n",
       "    }\n",
       "</style>\n",
       "<table border=\"1\" class=\"dataframe\">\n",
       "  <thead>\n",
       "    <tr style=\"text-align: right;\">\n",
       "      <th></th>\n",
       "      <th>Age</th>\n",
       "      <th>Gender</th>\n",
       "      <th>Flow</th>\n",
       "      <th>Weekly Meditation</th>\n",
       "      <th>Daily Shouting</th>\n",
       "      <th>Daily Stress</th>\n",
       "      <th>Work Life Balance Score</th>\n",
       "    </tr>\n",
       "  </thead>\n",
       "  <tbody>\n",
       "    <tr>\n",
       "      <th>0</th>\n",
       "      <td>36 to 50</td>\n",
       "      <td>Female</td>\n",
       "      <td>4</td>\n",
       "      <td>5</td>\n",
       "      <td>5</td>\n",
       "      <td>2</td>\n",
       "      <td>609.5</td>\n",
       "    </tr>\n",
       "    <tr>\n",
       "      <th>1</th>\n",
       "      <td>36 to 50</td>\n",
       "      <td>Female</td>\n",
       "      <td>2</td>\n",
       "      <td>6</td>\n",
       "      <td>2</td>\n",
       "      <td>3</td>\n",
       "      <td>655.6</td>\n",
       "    </tr>\n",
       "    <tr>\n",
       "      <th>2</th>\n",
       "      <td>36 to 50</td>\n",
       "      <td>Female</td>\n",
       "      <td>2</td>\n",
       "      <td>3</td>\n",
       "      <td>2</td>\n",
       "      <td>3</td>\n",
       "      <td>631.6</td>\n",
       "    </tr>\n",
       "    <tr>\n",
       "      <th>3</th>\n",
       "      <td>51 or more</td>\n",
       "      <td>Female</td>\n",
       "      <td>5</td>\n",
       "      <td>0</td>\n",
       "      <td>5</td>\n",
       "      <td>3</td>\n",
       "      <td>622.7</td>\n",
       "    </tr>\n",
       "    <tr>\n",
       "      <th>4</th>\n",
       "      <td>51 or more</td>\n",
       "      <td>Female</td>\n",
       "      <td>0</td>\n",
       "      <td>5</td>\n",
       "      <td>0</td>\n",
       "      <td>1</td>\n",
       "      <td>663.9</td>\n",
       "    </tr>\n",
       "  </tbody>\n",
       "</table>\n",
       "</div>"
      ],
      "text/plain": [
       "          Age  Gender  Flow  Weekly Meditation  Daily Shouting Daily Stress  \\\n",
       "0    36 to 50  Female     4                  5               5            2   \n",
       "1    36 to 50  Female     2                  6               2            3   \n",
       "2    36 to 50  Female     2                  3               2            3   \n",
       "3  51 or more  Female     5                  0               5            3   \n",
       "4  51 or more  Female     0                  5               0            1   \n",
       "\n",
       "   Work Life Balance Score  \n",
       "0                    609.5  \n",
       "1                    655.6  \n",
       "2                    631.6  \n",
       "3                    622.7  \n",
       "4                    663.9  "
      ]
     },
     "execution_count": 31,
     "metadata": {},
     "output_type": "execute_result"
    }
   ],
   "source": [
    "# Create a new dataframe with the columns for flow, weekly meditation,\n",
    "# and daily shouting\n",
    "mental_health_df = wellbeing_df[['AGE','GENDER','FLOW',\n",
    "                                 'WEEKLY_MEDITATION', 'DAILY_SHOUTING',\n",
    "                                 'DAILY_STRESS','WORK_LIFE_BALANCE_SCORE']]\n",
    "# Rename the columns\n",
    "mental_health_df.set_axis(['Age','Gender','Flow','Weekly Meditation','Daily Shouting','Daily Stress','Work Life Balance Score'], axis='columns',inplace=True)\n",
    "mental_health_df.head()\n",
    "                                 "
   ]
  },
  {
   "cell_type": "code",
   "execution_count": 61,
   "metadata": {},
   "outputs": [
    {
     "data": {
      "image/png": "[encoded data removed]",
      "text/plain": [
       "<Figure size 640x480 with 1 Axes>"
      ]
     },
     "metadata": {},
     "output_type": "display_data"
    }
   ],
   "source": [
    "# Creat a line plot\n",
    "# First create a new dataframe, grouped by Flow with the mean of each\n",
    "# work life balance score per flwo grou[]\n",
    "flow = mental_health_df.groupby('Flow')['Work Life Balance Score'].mean()\n",
    "# Plot the data\n",
    "flow.plot()\n",
    "# Create x and y labels and title\n",
    "plt.xlabel('Hours Per Day in Flow State')\n",
    "plt.ylabel('Work Life Balance Score')\n",
    "plt.title('Work Life Balance Score vs Flow')\n",
    "plt.show()"
   ]
  },
  {
   "cell_type": "code",
   "execution_count": 64,
   "metadata": {},
   "outputs": [
    {
     "data": {
      "text/plain": [
       "Text(0, 0.5, 'Work Life Balance Score')"
      ]
     },
     "execution_count": 64,
     "metadata": {},
     "output_type": "execute_result"
    },
    {
     "data": {
      "image/png": "[encoded data removed]",
      "text/plain": [
       "<Figure size 640x480 with 1 Axes>"
      ]
     },
     "metadata": {},
     "output_type": "display_data"
    }
   ],
   "source": [
    "# Do the same for weekly meditation\n",
    "meditation = mental_health_df.groupby('Weekly Meditation')['Work Life Balance Score'].mean()\n",
    "meditation.plot()\n",
    "\n",
    "plt.xlabel('Opportunities Per Week to Meditate, Pray, or Engage in Relaxing Activities')\n",
    "plt.ylabel('Work Life Balance Score')"
   ]
  },
  {
   "cell_type": "code",
   "execution_count": 66,
   "metadata": {},
   "outputs": [
    {
     "data": {
      "image/png": "[encoded data removed]",
      "text/plain": [
       "<Figure size 640x480 with 1 Axes>"
      ]
     },
     "metadata": {},
     "output_type": "display_data"
    }
   ],
   "source": [
    "# Do the same for daily shouting\n",
    "meditation = mental_health_df.groupby('Daily Shouting')['Work Life Balance Score'].mean()\n",
    "meditation.plot()\n",
    "\n",
    "plt.xlabel('Times Per Week You Shout or Sulk at Someone')\n",
    "plt.ylabel('Work Life Balance Score')\n",
    "plt.show()"
   ]
  },
  {
   "cell_type": "code",
   "execution_count": null,
   "metadata": {},
   "outputs": [],
   "source": []
  }
 ],
 "metadata": {
  "kernelspec": {
   "display_name": "base",
   "language": "python",
   "name": "python3"
  },
  "language_info": {
   "codemirror_mode": {
    "name": "ipython",
    "version": 3
   },
   "file_extension": ".py",
   "mimetype": "text/x-python",
   "name": "python",
   "nbconvert_exporter": "python",
   "pygments_lexer": "ipython3",
   "version": "3.11.4"
  }
 },
 "nbformat": 4,
 "nbformat_minor": 2
}
